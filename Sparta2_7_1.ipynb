{
  "nbformat": 4,
  "nbformat_minor": 0,
  "metadata": {
    "colab": {
      "name": "Untitled1.ipynb",
      "provenance": [],
      "collapsed_sections": [],
      "authorship_tag": "ABX9TyM/xWCNMcK4oxUNo5SjjNcA",
      "include_colab_link": true
    },
    "kernelspec": {
      "name": "python3",
      "display_name": "Python 3"
    },
    "language_info": {
      "name": "python"
    }
  },
  "cells": [
    {
      "cell_type": "markdown",
      "metadata": {
        "id": "view-in-github",
        "colab_type": "text"
      },
      "source": [
        "<a href=\"https://colab.research.google.com/github/bnespi/Data-Science-Shits/blob/main/Sparta2_7_1.ipynb\" target=\"_parent\"><img src=\"https://colab.research.google.com/assets/colab-badge.svg\" alt=\"Open In Colab\"/></a>"
      ]
    },
    {
      "cell_type": "markdown",
      "source": [
        "###Loading the dataset"
      ],
      "metadata": {
        "id": "Lb9-_qwWFbEo"
      }
    },
    {
      "cell_type": "code",
      "execution_count": 1,
      "metadata": {
        "id": "1lXIraoK-Axf"
      },
      "outputs": [],
      "source": [
        "from sklearn.datasets import load_breast_cancer\n",
        "import pandas as pd\n",
        "import numpy as np\n",
        "import matplotlib.pyplot as plt\n",
        "import seaborn as sns"
      ]
    },
    {
      "cell_type": "code",
      "source": [
        "data = load_breast_cancer()\n",
        "\n",
        "data_df = pd.DataFrame(data.data, columns=data.feature_names)\n",
        "target_df = pd.DataFrame(data.target).rename(columns={0:'Diagnosis'})\n",
        "\n",
        "dataset_df = pd.concat([data_df, target_df], axis=1)\n",
        "\n",
        "dataset_df.head()"
      ],
      "metadata": {
        "colab": {
          "base_uri": "https://localhost:8080/",
          "height": 315
        },
        "id": "V5O8jHee-MJM",
        "outputId": "16007c20-487e-4a71-a266-c6475972569c"
      },
      "execution_count": 2,
      "outputs": [
        {
          "output_type": "execute_result",
          "data": {
            "text/plain": [
              "   mean radius  mean texture  mean perimeter  mean area  mean smoothness  \\\n",
              "0        17.99         10.38          122.80     1001.0          0.11840   \n",
              "1        20.57         17.77          132.90     1326.0          0.08474   \n",
              "2        19.69         21.25          130.00     1203.0          0.10960   \n",
              "3        11.42         20.38           77.58      386.1          0.14250   \n",
              "4        20.29         14.34          135.10     1297.0          0.10030   \n",
              "\n",
              "   mean compactness  mean concavity  mean concave points  mean symmetry  \\\n",
              "0           0.27760          0.3001              0.14710         0.2419   \n",
              "1           0.07864          0.0869              0.07017         0.1812   \n",
              "2           0.15990          0.1974              0.12790         0.2069   \n",
              "3           0.28390          0.2414              0.10520         0.2597   \n",
              "4           0.13280          0.1980              0.10430         0.1809   \n",
              "\n",
              "   mean fractal dimension  ...  worst texture  worst perimeter  worst area  \\\n",
              "0                 0.07871  ...          17.33           184.60      2019.0   \n",
              "1                 0.05667  ...          23.41           158.80      1956.0   \n",
              "2                 0.05999  ...          25.53           152.50      1709.0   \n",
              "3                 0.09744  ...          26.50            98.87       567.7   \n",
              "4                 0.05883  ...          16.67           152.20      1575.0   \n",
              "\n",
              "   worst smoothness  worst compactness  worst concavity  worst concave points  \\\n",
              "0            0.1622             0.6656           0.7119                0.2654   \n",
              "1            0.1238             0.1866           0.2416                0.1860   \n",
              "2            0.1444             0.4245           0.4504                0.2430   \n",
              "3            0.2098             0.8663           0.6869                0.2575   \n",
              "4            0.1374             0.2050           0.4000                0.1625   \n",
              "\n",
              "   worst symmetry  worst fractal dimension  Diagnosis  \n",
              "0          0.4601                  0.11890          0  \n",
              "1          0.2750                  0.08902          0  \n",
              "2          0.3613                  0.08758          0  \n",
              "3          0.6638                  0.17300          0  \n",
              "4          0.2364                  0.07678          0  \n",
              "\n",
              "[5 rows x 31 columns]"
            ],
            "text/html": [
              "\n",
              "  <div id=\"df-8334e814-c66b-4442-90f3-c849f8a4c991\">\n",
              "    <div class=\"colab-df-container\">\n",
              "      <div>\n",
              "<style scoped>\n",
              "    .dataframe tbody tr th:only-of-type {\n",
              "        vertical-align: middle;\n",
              "    }\n",
              "\n",
              "    .dataframe tbody tr th {\n",
              "        vertical-align: top;\n",
              "    }\n",
              "\n",
              "    .dataframe thead th {\n",
              "        text-align: right;\n",
              "    }\n",
              "</style>\n",
              "<table border=\"1\" class=\"dataframe\">\n",
              "  <thead>\n",
              "    <tr style=\"text-align: right;\">\n",
              "      <th></th>\n",
              "      <th>mean radius</th>\n",
              "      <th>mean texture</th>\n",
              "      <th>mean perimeter</th>\n",
              "      <th>mean area</th>\n",
              "      <th>mean smoothness</th>\n",
              "      <th>mean compactness</th>\n",
              "      <th>mean concavity</th>\n",
              "      <th>mean concave points</th>\n",
              "      <th>mean symmetry</th>\n",
              "      <th>mean fractal dimension</th>\n",
              "      <th>...</th>\n",
              "      <th>worst texture</th>\n",
              "      <th>worst perimeter</th>\n",
              "      <th>worst area</th>\n",
              "      <th>worst smoothness</th>\n",
              "      <th>worst compactness</th>\n",
              "      <th>worst concavity</th>\n",
              "      <th>worst concave points</th>\n",
              "      <th>worst symmetry</th>\n",
              "      <th>worst fractal dimension</th>\n",
              "      <th>Diagnosis</th>\n",
              "    </tr>\n",
              "  </thead>\n",
              "  <tbody>\n",
              "    <tr>\n",
              "      <th>0</th>\n",
              "      <td>17.99</td>\n",
              "      <td>10.38</td>\n",
              "      <td>122.80</td>\n",
              "      <td>1001.0</td>\n",
              "      <td>0.11840</td>\n",
              "      <td>0.27760</td>\n",
              "      <td>0.3001</td>\n",
              "      <td>0.14710</td>\n",
              "      <td>0.2419</td>\n",
              "      <td>0.07871</td>\n",
              "      <td>...</td>\n",
              "      <td>17.33</td>\n",
              "      <td>184.60</td>\n",
              "      <td>2019.0</td>\n",
              "      <td>0.1622</td>\n",
              "      <td>0.6656</td>\n",
              "      <td>0.7119</td>\n",
              "      <td>0.2654</td>\n",
              "      <td>0.4601</td>\n",
              "      <td>0.11890</td>\n",
              "      <td>0</td>\n",
              "    </tr>\n",
              "    <tr>\n",
              "      <th>1</th>\n",
              "      <td>20.57</td>\n",
              "      <td>17.77</td>\n",
              "      <td>132.90</td>\n",
              "      <td>1326.0</td>\n",
              "      <td>0.08474</td>\n",
              "      <td>0.07864</td>\n",
              "      <td>0.0869</td>\n",
              "      <td>0.07017</td>\n",
              "      <td>0.1812</td>\n",
              "      <td>0.05667</td>\n",
              "      <td>...</td>\n",
              "      <td>23.41</td>\n",
              "      <td>158.80</td>\n",
              "      <td>1956.0</td>\n",
              "      <td>0.1238</td>\n",
              "      <td>0.1866</td>\n",
              "      <td>0.2416</td>\n",
              "      <td>0.1860</td>\n",
              "      <td>0.2750</td>\n",
              "      <td>0.08902</td>\n",
              "      <td>0</td>\n",
              "    </tr>\n",
              "    <tr>\n",
              "      <th>2</th>\n",
              "      <td>19.69</td>\n",
              "      <td>21.25</td>\n",
              "      <td>130.00</td>\n",
              "      <td>1203.0</td>\n",
              "      <td>0.10960</td>\n",
              "      <td>0.15990</td>\n",
              "      <td>0.1974</td>\n",
              "      <td>0.12790</td>\n",
              "      <td>0.2069</td>\n",
              "      <td>0.05999</td>\n",
              "      <td>...</td>\n",
              "      <td>25.53</td>\n",
              "      <td>152.50</td>\n",
              "      <td>1709.0</td>\n",
              "      <td>0.1444</td>\n",
              "      <td>0.4245</td>\n",
              "      <td>0.4504</td>\n",
              "      <td>0.2430</td>\n",
              "      <td>0.3613</td>\n",
              "      <td>0.08758</td>\n",
              "      <td>0</td>\n",
              "    </tr>\n",
              "    <tr>\n",
              "      <th>3</th>\n",
              "      <td>11.42</td>\n",
              "      <td>20.38</td>\n",
              "      <td>77.58</td>\n",
              "      <td>386.1</td>\n",
              "      <td>0.14250</td>\n",
              "      <td>0.28390</td>\n",
              "      <td>0.2414</td>\n",
              "      <td>0.10520</td>\n",
              "      <td>0.2597</td>\n",
              "      <td>0.09744</td>\n",
              "      <td>...</td>\n",
              "      <td>26.50</td>\n",
              "      <td>98.87</td>\n",
              "      <td>567.7</td>\n",
              "      <td>0.2098</td>\n",
              "      <td>0.8663</td>\n",
              "      <td>0.6869</td>\n",
              "      <td>0.2575</td>\n",
              "      <td>0.6638</td>\n",
              "      <td>0.17300</td>\n",
              "      <td>0</td>\n",
              "    </tr>\n",
              "    <tr>\n",
              "      <th>4</th>\n",
              "      <td>20.29</td>\n",
              "      <td>14.34</td>\n",
              "      <td>135.10</td>\n",
              "      <td>1297.0</td>\n",
              "      <td>0.10030</td>\n",
              "      <td>0.13280</td>\n",
              "      <td>0.1980</td>\n",
              "      <td>0.10430</td>\n",
              "      <td>0.1809</td>\n",
              "      <td>0.05883</td>\n",
              "      <td>...</td>\n",
              "      <td>16.67</td>\n",
              "      <td>152.20</td>\n",
              "      <td>1575.0</td>\n",
              "      <td>0.1374</td>\n",
              "      <td>0.2050</td>\n",
              "      <td>0.4000</td>\n",
              "      <td>0.1625</td>\n",
              "      <td>0.2364</td>\n",
              "      <td>0.07678</td>\n",
              "      <td>0</td>\n",
              "    </tr>\n",
              "  </tbody>\n",
              "</table>\n",
              "<p>5 rows × 31 columns</p>\n",
              "</div>\n",
              "      <button class=\"colab-df-convert\" onclick=\"convertToInteractive('df-8334e814-c66b-4442-90f3-c849f8a4c991')\"\n",
              "              title=\"Convert this dataframe to an interactive table.\"\n",
              "              style=\"display:none;\">\n",
              "        \n",
              "  <svg xmlns=\"http://www.w3.org/2000/svg\" height=\"24px\"viewBox=\"0 0 24 24\"\n",
              "       width=\"24px\">\n",
              "    <path d=\"M0 0h24v24H0V0z\" fill=\"none\"/>\n",
              "    <path d=\"M18.56 5.44l.94 2.06.94-2.06 2.06-.94-2.06-.94-.94-2.06-.94 2.06-2.06.94zm-11 1L8.5 8.5l.94-2.06 2.06-.94-2.06-.94L8.5 2.5l-.94 2.06-2.06.94zm10 10l.94 2.06.94-2.06 2.06-.94-2.06-.94-.94-2.06-.94 2.06-2.06.94z\"/><path d=\"M17.41 7.96l-1.37-1.37c-.4-.4-.92-.59-1.43-.59-.52 0-1.04.2-1.43.59L10.3 9.45l-7.72 7.72c-.78.78-.78 2.05 0 2.83L4 21.41c.39.39.9.59 1.41.59.51 0 1.02-.2 1.41-.59l7.78-7.78 2.81-2.81c.8-.78.8-2.07 0-2.86zM5.41 20L4 18.59l7.72-7.72 1.47 1.35L5.41 20z\"/>\n",
              "  </svg>\n",
              "      </button>\n",
              "      \n",
              "  <style>\n",
              "    .colab-df-container {\n",
              "      display:flex;\n",
              "      flex-wrap:wrap;\n",
              "      gap: 12px;\n",
              "    }\n",
              "\n",
              "    .colab-df-convert {\n",
              "      background-color: #E8F0FE;\n",
              "      border: none;\n",
              "      border-radius: 50%;\n",
              "      cursor: pointer;\n",
              "      display: none;\n",
              "      fill: #1967D2;\n",
              "      height: 32px;\n",
              "      padding: 0 0 0 0;\n",
              "      width: 32px;\n",
              "    }\n",
              "\n",
              "    .colab-df-convert:hover {\n",
              "      background-color: #E2EBFA;\n",
              "      box-shadow: 0px 1px 2px rgba(60, 64, 67, 0.3), 0px 1px 3px 1px rgba(60, 64, 67, 0.15);\n",
              "      fill: #174EA6;\n",
              "    }\n",
              "\n",
              "    [theme=dark] .colab-df-convert {\n",
              "      background-color: #3B4455;\n",
              "      fill: #D2E3FC;\n",
              "    }\n",
              "\n",
              "    [theme=dark] .colab-df-convert:hover {\n",
              "      background-color: #434B5C;\n",
              "      box-shadow: 0px 1px 3px 1px rgba(0, 0, 0, 0.15);\n",
              "      filter: drop-shadow(0px 1px 2px rgba(0, 0, 0, 0.3));\n",
              "      fill: #FFFFFF;\n",
              "    }\n",
              "  </style>\n",
              "\n",
              "      <script>\n",
              "        const buttonEl =\n",
              "          document.querySelector('#df-8334e814-c66b-4442-90f3-c849f8a4c991 button.colab-df-convert');\n",
              "        buttonEl.style.display =\n",
              "          google.colab.kernel.accessAllowed ? 'block' : 'none';\n",
              "\n",
              "        async function convertToInteractive(key) {\n",
              "          const element = document.querySelector('#df-8334e814-c66b-4442-90f3-c849f8a4c991');\n",
              "          const dataTable =\n",
              "            await google.colab.kernel.invokeFunction('convertToInteractive',\n",
              "                                                     [key], {});\n",
              "          if (!dataTable) return;\n",
              "\n",
              "          const docLinkHtml = 'Like what you see? Visit the ' +\n",
              "            '<a target=\"_blank\" href=https://colab.research.google.com/notebooks/data_table.ipynb>data table notebook</a>'\n",
              "            + ' to learn more about interactive tables.';\n",
              "          element.innerHTML = '';\n",
              "          dataTable['output_type'] = 'display_data';\n",
              "          await google.colab.output.renderOutput(dataTable, element);\n",
              "          const docLink = document.createElement('div');\n",
              "          docLink.innerHTML = docLinkHtml;\n",
              "          element.appendChild(docLink);\n",
              "        }\n",
              "      </script>\n",
              "    </div>\n",
              "  </div>\n",
              "  "
            ]
          },
          "metadata": {},
          "execution_count": 2
        }
      ]
    },
    {
      "cell_type": "markdown",
      "source": [
        "###Feature Selection"
      ],
      "metadata": {
        "id": "DcsJP5u3Ezir"
      }
    },
    {
      "cell_type": "markdown",
      "source": [
        "Map the correlation to see highly correlated features"
      ],
      "metadata": {
        "id": "o5cj_OcOOZxz"
      }
    },
    {
      "cell_type": "code",
      "source": [
        "plt.figure(figsize=(7,7));\n",
        "\n",
        "sns.heatmap(dataset_df.corr());\n",
        "\n"
      ],
      "metadata": {
        "colab": {
          "base_uri": "https://localhost:8080/",
          "height": 514
        },
        "id": "7ePu9lxO-WHX",
        "outputId": "03a002f4-6db3-4d51-95f0-cd7dbb906f1d"
      },
      "execution_count": 3,
      "outputs": [
        {
          "output_type": "display_data",
          "data": {
            "text/plain": [
              "<Figure size 504x504 with 2 Axes>"
            ],
            "image/png": "[encoded data removed]"
          },
          "metadata": {
            "needs_background": "light"
          }
        }
      ]
    },
    {
      "cell_type": "markdown",
      "source": [
        "Filter the correlation to between 0.85 and 0.99"
      ],
      "metadata": {
        "id": "TLRRV6O7Ofgx"
      }
    },
    {
      "cell_type": "code",
      "source": [
        "corr = dataset_df.corr()\n",
        "\n",
        "plt.figure(figsize=(7,7));\n",
        "sns.heatmap(corr[(corr>0.9) & (corr != 1.0)], linewidths=0.5, linecolor='black', annot=True);"
      ],
      "metadata": {
        "colab": {
          "base_uri": "https://localhost:8080/",
          "height": 510
        },
        "id": "-huRDfJa-p_k",
        "outputId": "6b93c3cd-2e22-42d4-9b58-d065fee18508"
      },
      "execution_count": 5,
      "outputs": [
        {
          "output_type": "display_data",
          "data": {
            "text/plain": [
              "<Figure size 504x504 with 2 Axes>"
            ],
            "image/png": "[encoded data removed]"
          },
          "metadata": {
            "needs_background": "light"
          }
        }
      ]
    },
    {
      "cell_type": "markdown",
      "source": [
        "Mean/Worst/Error radius, perimeter, and area are highly correlated. One feature could be chosen to represent the three of them.\n",
        "\n"
      ],
      "metadata": {
        "id": "5TpE-OF4Ol7W"
      }
    },
    {
      "cell_type": "code",
      "source": [
        "features = list(dataset_df.columns)\n",
        "features = ['mean texture', 'mean area', 'mean smoothness', 'mean compactness', 'mean concavity', 'mean symmetry', 'mean fractal dimension', \n",
        "            'texture error', 'area error', 'smoothness error', 'compactness error', 'concavity error', 'concave points error', 'symmetry error', 'fractal dimension error',\n",
        "            'worst smoothness', 'worst compactness', 'worst concavity',\n",
        "            'worst symmetry', 'worst fractal dimension']\n",
        " \n",
        "filtered = dataset_df[features]\n",
        "\n",
        "filtered.head()"
      ],
      "metadata": {
        "colab": {
          "base_uri": "https://localhost:8080/",
          "height": 285
        },
        "id": "P6qvP8qHQUyx",
        "outputId": "039574fd-d879-4dac-84d6-0890805e2c7e"
      },
      "execution_count": 6,
      "outputs": [
        {
          "output_type": "execute_result",
          "data": {
            "text/plain": [
              "   mean texture  mean area  mean smoothness  mean compactness  mean concavity  \\\n",
              "0         10.38     1001.0          0.11840           0.27760          0.3001   \n",
              "1         17.77     1326.0          0.08474           0.07864          0.0869   \n",
              "2         21.25     1203.0          0.10960           0.15990          0.1974   \n",
              "3         20.38      386.1          0.14250           0.28390          0.2414   \n",
              "4         14.34     1297.0          0.10030           0.13280          0.1980   \n",
              "\n",
              "   mean symmetry  mean fractal dimension  texture error  area error  \\\n",
              "0         0.2419                 0.07871         0.9053      153.40   \n",
              "1         0.1812                 0.05667         0.7339       74.08   \n",
              "2         0.2069                 0.05999         0.7869       94.03   \n",
              "3         0.2597                 0.09744         1.1560       27.23   \n",
              "4         0.1809                 0.05883         0.7813       94.44   \n",
              "\n",
              "   smoothness error  compactness error  concavity error  concave points error  \\\n",
              "0          0.006399            0.04904          0.05373               0.01587   \n",
              "1          0.005225            0.01308          0.01860               0.01340   \n",
              "2          0.006150            0.04006          0.03832               0.02058   \n",
              "3          0.009110            0.07458          0.05661               0.01867   \n",
              "4          0.011490            0.02461          0.05688               0.01885   \n",
              "\n",
              "   symmetry error  fractal dimension error  worst smoothness  \\\n",
              "0         0.03003                 0.006193            0.1622   \n",
              "1         0.01389                 0.003532            0.1238   \n",
              "2         0.02250                 0.004571            0.1444   \n",
              "3         0.05963                 0.009208            0.2098   \n",
              "4         0.01756                 0.005115            0.1374   \n",
              "\n",
              "   worst compactness  worst concavity  worst symmetry  worst fractal dimension  \n",
              "0             0.6656           0.7119          0.4601                  0.11890  \n",
              "1             0.1866           0.2416          0.2750                  0.08902  \n",
              "2             0.4245           0.4504          0.3613                  0.08758  \n",
              "3             0.8663           0.6869          0.6638                  0.17300  \n",
              "4             0.2050           0.4000          0.2364                  0.07678  "
            ],
            "text/html": [
              "\n",
              "  <div id=\"df-294bd441-8b1e-433f-b7d8-0288c7416689\">\n",
              "    <div class=\"colab-df-container\">\n",
              "      <div>\n",
              "<style scoped>\n",
              "    .dataframe tbody tr th:only-of-type {\n",
              "        vertical-align: middle;\n",
              "    }\n",
              "\n",
              "    .dataframe tbody tr th {\n",
              "        vertical-align: top;\n",
              "    }\n",
              "\n",
              "    .dataframe thead th {\n",
              "        text-align: right;\n",
              "    }\n",
              "</style>\n",
              "<table border=\"1\" class=\"dataframe\">\n",
              "  <thead>\n",
              "    <tr style=\"text-align: right;\">\n",
              "      <th></th>\n",
              "      <th>mean texture</th>\n",
              "      <th>mean area</th>\n",
              "      <th>mean smoothness</th>\n",
              "      <th>mean compactness</th>\n",
              "      <th>mean concavity</th>\n",
              "      <th>mean symmetry</th>\n",
              "      <th>mean fractal dimension</th>\n",
              "      <th>texture error</th>\n",
              "      <th>area error</th>\n",
              "      <th>smoothness error</th>\n",
              "      <th>compactness error</th>\n",
              "      <th>concavity error</th>\n",
              "      <th>concave points error</th>\n",
              "      <th>symmetry error</th>\n",
              "      <th>fractal dimension error</th>\n",
              "      <th>worst smoothness</th>\n",
              "      <th>worst compactness</th>\n",
              "      <th>worst concavity</th>\n",
              "      <th>worst symmetry</th>\n",
              "      <th>worst fractal dimension</th>\n",
              "    </tr>\n",
              "  </thead>\n",
              "  <tbody>\n",
              "    <tr>\n",
              "      <th>0</th>\n",
              "      <td>10.38</td>\n",
              "      <td>1001.0</td>\n",
              "      <td>0.11840</td>\n",
              "      <td>0.27760</td>\n",
              "      <td>0.3001</td>\n",
              "      <td>0.2419</td>\n",
              "      <td>0.07871</td>\n",
              "      <td>0.9053</td>\n",
              "      <td>153.40</td>\n",
              "      <td>0.006399</td>\n",
              "      <td>0.04904</td>\n",
              "      <td>0.05373</td>\n",
              "      <td>0.01587</td>\n",
              "      <td>0.03003</td>\n",
              "      <td>0.006193</td>\n",
              "      <td>0.1622</td>\n",
              "      <td>0.6656</td>\n",
              "      <td>0.7119</td>\n",
              "      <td>0.4601</td>\n",
              "      <td>0.11890</td>\n",
              "    </tr>\n",
              "    <tr>\n",
              "      <th>1</th>\n",
              "      <td>17.77</td>\n",
              "      <td>1326.0</td>\n",
              "      <td>0.08474</td>\n",
              "      <td>0.07864</td>\n",
              "      <td>0.0869</td>\n",
              "      <td>0.1812</td>\n",
              "      <td>0.05667</td>\n",
              "      <td>0.7339</td>\n",
              "      <td>74.08</td>\n",
              "      <td>0.005225</td>\n",
              "      <td>0.01308</td>\n",
              "      <td>0.01860</td>\n",
              "      <td>0.01340</td>\n",
              "      <td>0.01389</td>\n",
              "      <td>0.003532</td>\n",
              "      <td>0.1238</td>\n",
              "      <td>0.1866</td>\n",
              "      <td>0.2416</td>\n",
              "      <td>0.2750</td>\n",
              "      <td>0.08902</td>\n",
              "    </tr>\n",
              "    <tr>\n",
              "      <th>2</th>\n",
              "      <td>21.25</td>\n",
              "      <td>1203.0</td>\n",
              "      <td>0.10960</td>\n",
              "      <td>0.15990</td>\n",
              "      <td>0.1974</td>\n",
              "      <td>0.2069</td>\n",
              "      <td>0.05999</td>\n",
              "      <td>0.7869</td>\n",
              "      <td>94.03</td>\n",
              "      <td>0.006150</td>\n",
              "      <td>0.04006</td>\n",
              "      <td>0.03832</td>\n",
              "      <td>0.02058</td>\n",
              "      <td>0.02250</td>\n",
              "      <td>0.004571</td>\n",
              "      <td>0.1444</td>\n",
              "      <td>0.4245</td>\n",
              "      <td>0.4504</td>\n",
              "      <td>0.3613</td>\n",
              "      <td>0.08758</td>\n",
              "    </tr>\n",
              "    <tr>\n",
              "      <th>3</th>\n",
              "      <td>20.38</td>\n",
              "      <td>386.1</td>\n",
              "      <td>0.14250</td>\n",
              "      <td>0.28390</td>\n",
              "      <td>0.2414</td>\n",
              "      <td>0.2597</td>\n",
              "      <td>0.09744</td>\n",
              "      <td>1.1560</td>\n",
              "      <td>27.23</td>\n",
              "      <td>0.009110</td>\n",
              "      <td>0.07458</td>\n",
              "      <td>0.05661</td>\n",
              "      <td>0.01867</td>\n",
              "      <td>0.05963</td>\n",
              "      <td>0.009208</td>\n",
              "      <td>0.2098</td>\n",
              "      <td>0.8663</td>\n",
              "      <td>0.6869</td>\n",
              "      <td>0.6638</td>\n",
              "      <td>0.17300</td>\n",
              "    </tr>\n",
              "    <tr>\n",
              "      <th>4</th>\n",
              "      <td>14.34</td>\n",
              "      <td>1297.0</td>\n",
              "      <td>0.10030</td>\n",
              "      <td>0.13280</td>\n",
              "      <td>0.1980</td>\n",
              "      <td>0.1809</td>\n",
              "      <td>0.05883</td>\n",
              "      <td>0.7813</td>\n",
              "      <td>94.44</td>\n",
              "      <td>0.011490</td>\n",
              "      <td>0.02461</td>\n",
              "      <td>0.05688</td>\n",
              "      <td>0.01885</td>\n",
              "      <td>0.01756</td>\n",
              "      <td>0.005115</td>\n",
              "      <td>0.1374</td>\n",
              "      <td>0.2050</td>\n",
              "      <td>0.4000</td>\n",
              "      <td>0.2364</td>\n",
              "      <td>0.07678</td>\n",
              "    </tr>\n",
              "  </tbody>\n",
              "</table>\n",
              "</div>\n",
              "      <button class=\"colab-df-convert\" onclick=\"convertToInteractive('df-294bd441-8b1e-433f-b7d8-0288c7416689')\"\n",
              "              title=\"Convert this dataframe to an interactive table.\"\n",
              "              style=\"display:none;\">\n",
              "        \n",
              "  <svg xmlns=\"http://www.w3.org/2000/svg\" height=\"24px\"viewBox=\"0 0 24 24\"\n",
              "       width=\"24px\">\n",
              "    <path d=\"M0 0h24v24H0V0z\" fill=\"none\"/>\n",
              "    <path d=\"M18.56 5.44l.94 2.06.94-2.06 2.06-.94-2.06-.94-.94-2.06-.94 2.06-2.06.94zm-11 1L8.5 8.5l.94-2.06 2.06-.94-2.06-.94L8.5 2.5l-.94 2.06-2.06.94zm10 10l.94 2.06.94-2.06 2.06-.94-2.06-.94-.94-2.06-.94 2.06-2.06.94z\"/><path d=\"M17.41 7.96l-1.37-1.37c-.4-.4-.92-.59-1.43-.59-.52 0-1.04.2-1.43.59L10.3 9.45l-7.72 7.72c-.78.78-.78 2.05 0 2.83L4 21.41c.39.39.9.59 1.41.59.51 0 1.02-.2 1.41-.59l7.78-7.78 2.81-2.81c.8-.78.8-2.07 0-2.86zM5.41 20L4 18.59l7.72-7.72 1.47 1.35L5.41 20z\"/>\n",
              "  </svg>\n",
              "      </button>\n",
              "      \n",
              "  <style>\n",
              "    .colab-df-container {\n",
              "      display:flex;\n",
              "      flex-wrap:wrap;\n",
              "      gap: 12px;\n",
              "    }\n",
              "\n",
              "    .colab-df-convert {\n",
              "      background-color: #E8F0FE;\n",
              "      border: none;\n",
              "      border-radius: 50%;\n",
              "      cursor: pointer;\n",
              "      display: none;\n",
              "      fill: #1967D2;\n",
              "      height: 32px;\n",
              "      padding: 0 0 0 0;\n",
              "      width: 32px;\n",
              "    }\n",
              "\n",
              "    .colab-df-convert:hover {\n",
              "      background-color: #E2EBFA;\n",
              "      box-shadow: 0px 1px 2px rgba(60, 64, 67, 0.3), 0px 1px 3px 1px rgba(60, 64, 67, 0.15);\n",
              "      fill: #174EA6;\n",
              "    }\n",
              "\n",
              "    [theme=dark] .colab-df-convert {\n",
              "      background-color: #3B4455;\n",
              "      fill: #D2E3FC;\n",
              "    }\n",
              "\n",
              "    [theme=dark] .colab-df-convert:hover {\n",
              "      background-color: #434B5C;\n",
              "      box-shadow: 0px 1px 3px 1px rgba(0, 0, 0, 0.15);\n",
              "      filter: drop-shadow(0px 1px 2px rgba(0, 0, 0, 0.3));\n",
              "      fill: #FFFFFF;\n",
              "    }\n",
              "  </style>\n",
              "\n",
              "      <script>\n",
              "        const buttonEl =\n",
              "          document.querySelector('#df-294bd441-8b1e-433f-b7d8-0288c7416689 button.colab-df-convert');\n",
              "        buttonEl.style.display =\n",
              "          google.colab.kernel.accessAllowed ? 'block' : 'none';\n",
              "\n",
              "        async function convertToInteractive(key) {\n",
              "          const element = document.querySelector('#df-294bd441-8b1e-433f-b7d8-0288c7416689');\n",
              "          const dataTable =\n",
              "            await google.colab.kernel.invokeFunction('convertToInteractive',\n",
              "                                                     [key], {});\n",
              "          if (!dataTable) return;\n",
              "\n",
              "          const docLinkHtml = 'Like what you see? Visit the ' +\n",
              "            '<a target=\"_blank\" href=https://colab.research.google.com/notebooks/data_table.ipynb>data table notebook</a>'\n",
              "            + ' to learn more about interactive tables.';\n",
              "          element.innerHTML = '';\n",
              "          dataTable['output_type'] = 'display_data';\n",
              "          await google.colab.output.renderOutput(dataTable, element);\n",
              "          const docLink = document.createElement('div');\n",
              "          docLink.innerHTML = docLinkHtml;\n",
              "          element.appendChild(docLink);\n",
              "        }\n",
              "      </script>\n",
              "    </div>\n",
              "  </div>\n",
              "  "
            ]
          },
          "metadata": {},
          "execution_count": 6
        }
      ]
    },
    {
      "cell_type": "code",
      "source": [
        "plt.figure(figsize=(7,7));\n",
        "f_corr=filtered.corr();\n",
        "sns.heatmap(f_corr[(f_corr>=0.9)&(f_corr<1.0)], linewidths=0.5, annot=True);"
      ],
      "metadata": {
        "colab": {
          "base_uri": "https://localhost:8080/",
          "height": 616
        },
        "id": "GehbCpsLZu19",
        "outputId": "347e7d06-47aa-4ee3-c701-3ffe9a381576"
      },
      "execution_count": 7,
      "outputs": [
        {
          "output_type": "stream",
          "name": "stderr",
          "text": [
            "/usr/local/lib/python3.7/dist-packages/seaborn/matrix.py:198: RuntimeWarning: All-NaN slice encountered\n",
            "  vmin = np.nanmin(calc_data)\n",
            "/usr/local/lib/python3.7/dist-packages/seaborn/matrix.py:203: RuntimeWarning: All-NaN slice encountered\n",
            "  vmax = np.nanmax(calc_data)\n"
          ]
        },
        {
          "output_type": "display_data",
          "data": {
            "text/plain": [
              "<Figure size 504x504 with 2 Axes>"
            ],
            "image/png": "[encoded data removed]"
          },
          "metadata": {
            "needs_background": "light"
          }
        }
      ]
    },
    {
      "cell_type": "markdown",
      "source": [
        "###Train Test Split"
      ],
      "metadata": {
        "id": "uCmmRHR-bOol"
      }
    },
    {
      "cell_type": "code",
      "source": [
        "from sklearn.model_selection import train_test_split"
      ],
      "metadata": {
        "id": "QGQ2wpJqbsMu"
      },
      "execution_count": 8,
      "outputs": []
    },
    {
      "cell_type": "markdown",
      "source": [
        "Split the dataset"
      ],
      "metadata": {
        "id": "yb5kkwa6dBDg"
      }
    },
    {
      "cell_type": "code",
      "source": [
        "to_split = pd.concat([filtered, dataset_df[['Diagnosis']]], axis=1)\n",
        "# y = dataset_df[['Diagnosis']]\n",
        "\n",
        "train, test = train_test_split(to_split,train_size=0.7, shuffle=True, random_state=0)\n",
        "\n",
        "train_x = train[features]\n",
        "train_y = train.Diagnosis\n",
        "\n",
        "test_x = test[features]\n",
        "test_y = test.Diagnosis"
      ],
      "metadata": {
        "id": "HCqePsdaYrEV"
      },
      "execution_count": 9,
      "outputs": []
    },
    {
      "cell_type": "markdown",
      "source": [
        "###GridSearchCV "
      ],
      "metadata": {
        "id": "exTAkkEEs1Nl"
      }
    },
    {
      "cell_type": "markdown",
      "source": [
        "####Linear Regression / Linear Regression CV"
      ],
      "metadata": {
        "id": "wQwM_jGy3o4u"
      }
    },
    {
      "cell_type": "code",
      "source": [
        "solvers = ['newton-cg', 'lbfgs', 'liblinear']\n",
        "penalty = ['l2']\n",
        "c_values = [100, 10, 1.0, 0.1, 0.01]\n",
        "\n",
        "params = dict(solver=solvers, penalty=penalty, C=c_values)\n",
        "params_cv = dict(solver=solvers, penalty=penalty, Cs=c_values)\n",
        "grid_search_lr = GridSearchCV(LogisticRegression(), params, scoring='accuracy')\n",
        "grid_search_lr_cv = GridSearchCV(LogisticRegressionCV(), params_cv, scoring='accuracy');\n",
        "\n",
        "results_lr = grid_search_lr.fit(test_x, test_y)\n",
        "results_lr_cv = grid_search_lr_cv.fit(test_x, test_y)"
      ],
      "metadata": {
        "id": "t1EU0t_UeSrD"
      },
      "execution_count": null,
      "outputs": []
    },
    {
      "cell_type": "code",
      "source": [
        "print(\"Logistic Regression Parameters\")\n",
        "print(results_lr.best_score_)\n",
        "print(results_lr.best_params_)"
      ],
      "metadata": {
        "colab": {
          "base_uri": "https://localhost:8080/"
        },
        "id": "hQTSLETz5Fd6",
        "outputId": "0e5065c0-b97d-47c4-ba19-94dd0f7cb1a4"
      },
      "execution_count": 52,
      "outputs": [
        {
          "output_type": "stream",
          "name": "stdout",
          "text": [
            "Logistic Regression Parameters\n",
            "0.9473949579831933\n",
            "{'C': 100, 'penalty': 'l2', 'solver': 'liblinear'}\n"
          ]
        }
      ]
    },
    {
      "cell_type": "code",
      "source": [
        "print(\"Logistic Regression CV Parameters\")\n",
        "print(results_lr_cv.best_score_)\n",
        "print(results_lr_cv.best_params_)"
      ],
      "metadata": {
        "colab": {
          "base_uri": "https://localhost:8080/"
        },
        "id": "iroObgZJ5SOQ",
        "outputId": "f7e0e260-0da6-4ff0-c288-31b2990d2a52"
      },
      "execution_count": 53,
      "outputs": [
        {
          "output_type": "stream",
          "name": "stdout",
          "text": [
            "Logistic Regression CV Parameters\n",
            "0.9359663865546219\n",
            "{'Cs': 100, 'penalty': 'l2', 'solver': 'liblinear'}\n"
          ]
        }
      ]
    },
    {
      "cell_type": "markdown",
      "source": [
        "####SVC"
      ],
      "metadata": {
        "id": "1vTNdIopEf-9"
      }
    },
    {
      "cell_type": "code",
      "source": [
        "params = {'C': [0.1,1, 10, 100],'kernel': ['rbf', 'poly', 'sigmoid']}#, 'gamma': [1,0.1,0.01,0.001]\n",
        "grid_search_svc = GridSearchCV(SVC(), params, scoring='accuracy')\n",
        "\n",
        "results_svc = grid_search_svc.fit(test_x, test_y)"
      ],
      "metadata": {
        "id": "LBnOrnCM3yri"
      },
      "execution_count": 16,
      "outputs": []
    },
    {
      "cell_type": "code",
      "source": [
        "print(\"SVC Parameters\")\n",
        "print(results_svc.best_score_)\n",
        "print(results_svc.best_params_)"
      ],
      "metadata": {
        "colab": {
          "base_uri": "https://localhost:8080/"
        },
        "id": "aYLhan5e5YFQ",
        "outputId": "65fa5d52-8337-4c85-b2f9-d00e24169ca8"
      },
      "execution_count": 20,
      "outputs": [
        {
          "output_type": "stream",
          "name": "stdout",
          "text": [
            "SVC Parameters\n",
            "0.9184873949579833\n",
            "{'C': 1, 'kernel': 'poly'}\n"
          ]
        }
      ]
    },
    {
      "cell_type": "markdown",
      "source": [
        "Random Forest"
      ],
      "metadata": {
        "id": "J2JFHmhuEjxH"
      }
    },
    {
      "cell_type": "code",
      "source": [
        "param_grid = { \n",
        "    'n_estimators': [200, 500],\n",
        "    'max_features': ['auto', 'sqrt', 'log2'],\n",
        "    'max_depth' : [4,5,6,7,8],\n",
        "    'criterion' :['gini', 'entropy']\n",
        "}\n",
        "\n",
        "grid_search_rf = GridSearchCV(RandomForestClassifier(), param_grid, scoring='accuracy')\n",
        "\n",
        "results_rf = grid_search_rf.fit(test_x, test_y)"
      ],
      "metadata": {
        "id": "yM-IU9-65ej_"
      },
      "execution_count": 17,
      "outputs": []
    },
    {
      "cell_type": "code",
      "source": [
        "print(\"Random Forest Classifier Parameters\")\n",
        "print(results_rf.best_score_)\n",
        "print(results_rf.best_params_)"
      ],
      "metadata": {
        "colab": {
          "base_uri": "https://localhost:8080/"
        },
        "id": "2-Zx1TRN7Due",
        "outputId": "cc23e6b4-3ef1-44fe-c49f-c2381a30dfeb"
      },
      "execution_count": 21,
      "outputs": [
        {
          "output_type": "stream",
          "name": "stdout",
          "text": [
            "Random Forest Classifier Parameters\n",
            "0.9591596638655462\n",
            "{'criterion': 'gini', 'max_depth': 5, 'max_features': 'auto', 'n_estimators': 500}\n"
          ]
        }
      ]
    },
    {
      "cell_type": "markdown",
      "source": [
        "####Decision Tree"
      ],
      "metadata": {
        "id": "fYb_DT21Enqc"
      }
    },
    {
      "cell_type": "code",
      "source": [
        "params={'criterion':['gini','entropy'],'max_depth':range(1,10),'min_samples_split':range(1,10),'min_samples_leaf':range(1,5)}\n",
        "\n",
        "grid_search_dt = GridSearchCV(DecisionTreeClassifier(), params, scoring='accuracy')\n",
        "\n",
        "results_dt = grid_search_dt.fit(test_x, test_y)"
      ],
      "metadata": {
        "id": "NRbQYmen7NQ_"
      },
      "execution_count": null,
      "outputs": []
    },
    {
      "cell_type": "code",
      "source": [
        "print(\"Random Forest Classifier Parameters\")\n",
        "print(results_dt.best_score_)\n",
        "print(results_dt.best_params_)"
      ],
      "metadata": {
        "colab": {
          "base_uri": "https://localhost:8080/"
        },
        "id": "3nyFKppW8okq",
        "outputId": "13a9ca74-1b36-4e84-fe19-3a4214db2a02"
      },
      "execution_count": 22,
      "outputs": [
        {
          "output_type": "stream",
          "name": "stdout",
          "text": [
            "Random Forest Classifier Parameters\n",
            "0.9300840336134455\n",
            "{'criterion': 'gini', 'max_depth': 5, 'min_samples_leaf': 4, 'min_samples_split': 6}\n"
          ]
        }
      ]
    },
    {
      "cell_type": "markdown",
      "source": [
        "###Comparing Default and GridSearchCV Results"
      ],
      "metadata": {
        "id": "nPuzoE-wEq4L"
      }
    },
    {
      "cell_type": "code",
      "source": [
        "from sklearn.model_selection import GridSearchCV\n",
        "from sklearn.linear_model import LogisticRegression\n",
        "from sklearn.linear_model import LogisticRegressionCV\n",
        "from sklearn.svm import SVC\n",
        "from sklearn.ensemble import RandomForestClassifier\n",
        "from sklearn.tree import DecisionTreeClassifier"
      ],
      "metadata": {
        "id": "KIJs61--cAo9"
      },
      "execution_count": 10,
      "outputs": []
    },
    {
      "cell_type": "code",
      "source": [
        "from sklearn.metrics import accuracy_score"
      ],
      "metadata": {
        "id": "pK0SuRNltgFx"
      },
      "execution_count": 11,
      "outputs": []
    },
    {
      "cell_type": "code",
      "source": [
        "def train_test_scores(train_x, train_y, test_x, test_y, model, model_name):\n",
        "  print(model_name)\n",
        "  print(\"\\tTest Set Accuracy:{}\".format(100*accuracy_score(test_y, model.predict(test_x))))\n",
        "  print(\"\\tTraining Set Accuracy:{}\".format(100*accuracy_score(train_y, model.predict(train_x))))"
      ],
      "metadata": {
        "id": "yhbSwide1Xhr"
      },
      "execution_count": 12,
      "outputs": []
    },
    {
      "cell_type": "code",
      "source": [
        "log_reg = LogisticRegression().fit(train_x, train_y)\n",
        "log_reg_cv = LogisticRegressionCV().fit(train_x, train_y)\n",
        "svc = SVC().fit(train_x, train_y)\n",
        "rf = RandomForestClassifier().fit(train_x, train_y)\n",
        "dec_tree = DecisionTreeClassifier().fit(train_x, train_y)"
      ],
      "metadata": {
        "id": "oSt0Abkas6Mm"
      },
      "execution_count": null,
      "outputs": []
    },
    {
      "cell_type": "markdown",
      "source": [
        "Default Parameters:"
      ],
      "metadata": {
        "id": "vJnPUQRhCXzG"
      }
    },
    {
      "cell_type": "code",
      "source": [
        "#Logistic Regression Accuracy Score\n",
        "train_test_scores(train_x, train_y, test_x, test_y, log_reg, 'Logistic Regression')\n",
        "\n",
        "#Logistic Regression CV Accuracy Score\n",
        "train_test_scores(train_x, train_y, test_x, test_y, log_reg_cv, 'Logistic Regression CV')\n",
        "\n",
        "#Support Vector Classifier Accuracy Score\n",
        "train_test_scores(train_x, train_y, test_x, test_y, svc, 'Support Vector Classifier')\n",
        "\n",
        "#Random Forest Classifier Accuracy Score\n",
        "train_test_scores(train_x, train_y, test_x, test_y, rf, 'Random Forest Classifier')\n",
        "\n",
        "#Decision Tree Classifier Accuracy Score\n",
        "train_test_scores(train_x, train_y, test_x, test_y, dec_tree, 'Decision Tree Classifier')"
      ],
      "metadata": {
        "colab": {
          "base_uri": "https://localhost:8080/"
        },
        "id": "2frURdUpu45Z",
        "outputId": "74fe0543-4a8c-4add-ea0c-5f060e1f9cd4"
      },
      "execution_count": 14,
      "outputs": [
        {
          "output_type": "stream",
          "name": "stdout",
          "text": [
            "Logistic Regression\n",
            "\tTest Set Accuracy:94.15204678362574\n",
            "\tTraining Set Accuracy:94.47236180904522\n",
            "Logistic Regression CV\n",
            "\tTest Set Accuracy:94.15204678362574\n",
            "\tTraining Set Accuracy:98.24120603015075\n",
            "Support Vector Classifier\n",
            "\tTest Set Accuracy:87.71929824561403\n",
            "\tTraining Set Accuracy:86.68341708542714\n",
            "Random Forest Classifier\n",
            "\tTest Set Accuracy:92.98245614035088\n",
            "\tTraining Set Accuracy:100.0\n",
            "Decision Tree Classifier\n",
            "\tTest Set Accuracy:87.13450292397661\n",
            "\tTraining Set Accuracy:100.0\n"
          ]
        }
      ]
    },
    {
      "cell_type": "markdown",
      "source": [
        "From the results, it seems that the models that classify new inputs better are:\n",
        "\n",
        "\n",
        "*   Logistic Regression;\n",
        "*   Logistic Regression CV; and\n",
        "*   Support Vector Classifier\n",
        "\n",
        "Meanwhile, the Random Forest and Decision Tree Classifiers seem to be overfitting as its training set accuracy is 100% but with a testing set accuracy of less. \n",
        "\n",
        "It looks like Logistic Regression CV is almost overfitting and SVC seems to react better to the input (training set)."
      ],
      "metadata": {
        "id": "rHMdl_8xu72D"
      }
    },
    {
      "cell_type": "markdown",
      "source": [
        "GridSearchCV \"Best\" Parameters:"
      ],
      "metadata": {
        "id": "6oSat2fRCaDN"
      }
    },
    {
      "cell_type": "code",
      "source": [
        "#Logistic Regression Accuracy Score\n",
        "model1 = LogisticRegression(C= 100, penalty= 'l2', solver= 'liblinear').fit(train_x, train_y)\n",
        "train_test_scores(train_x, train_y, test_x, test_y, model1, 'Logistic Regression')\n",
        "\n",
        "#Logistic Regression CV Accuracy Score\n",
        "model2 = LogisticRegressionCV(Cs= 100, penalty= 'l2', solver= 'liblinear').fit(train_x, train_y)\n",
        "train_test_scores(train_x, train_y, test_x, test_y, model2, 'Logistic Regression CV')\n",
        "\n",
        "#Support Vector Classifier Accuracy Score\n",
        "model3 = SVC(C = 1, kernel = 'poly').fit(train_x, train_y)\n",
        "train_test_scores(train_x, train_y, test_x, test_y, model3, 'Support Vector Classifier')\n",
        "\n",
        "#Random Forest Classifier Accuracy Score\n",
        "model4 = RandomForestClassifier(criterion = 'gini', max_depth = 5, max_features = 'auto', n_estimators = 500).fit(train_x, train_y)\n",
        "train_test_scores(train_x, train_y, test_x, test_y, model4, 'Random Forest Classifier')\n",
        "\n",
        "#Decision Tree Classifier Accuracy Score\n",
        "model5 = DecisionTreeClassifier(criterion = 'gini', max_depth = 5, min_samples_leaf = 4, min_samples_split = 6).fit(train_x, train_y)\n",
        "train_test_scores(train_x, train_y, test_x, test_y, model5, 'Decision Tree Classifier')"
      ],
      "metadata": {
        "colab": {
          "base_uri": "https://localhost:8080/"
        },
        "id": "1GASm5dB272B",
        "outputId": "d387df53-5e31-4a47-ab86-abbb3979673f"
      },
      "execution_count": 26,
      "outputs": [
        {
          "output_type": "stream",
          "name": "stdout",
          "text": [
            "Logistic Regression\n",
            "\tTest Set Accuracy:94.15204678362574\n",
            "\tTraining Set Accuracy:97.73869346733667\n",
            "Logistic Regression CV\n",
            "\tTest Set Accuracy:94.73684210526315\n",
            "\tTraining Set Accuracy:98.24120603015075\n",
            "Support Vector Classifier\n",
            "\tTest Set Accuracy:89.47368421052632\n",
            "\tTraining Set Accuracy:87.43718592964824\n",
            "Random Forest Classifier\n",
            "\tTest Set Accuracy:92.39766081871345\n",
            "\tTraining Set Accuracy:99.2462311557789\n",
            "Decision Tree Classifier\n",
            "\tTest Set Accuracy:87.13450292397661\n",
            "\tTraining Set Accuracy:96.73366834170855\n"
          ]
        }
      ]
    },
    {
      "cell_type": "markdown",
      "source": [
        "*   Logistic Regression increased in training set accuracy\n",
        "*   Logistic Regression CV test set accuracy increased\n",
        "*   SVC improved so much\n",
        "*   Random Forest Classifier and Decision Tree Classifier is overfitting less than before. \n",
        "\n"
      ],
      "metadata": {
        "id": "a1NbnAEDCrXT"
      }
    },
    {
      "cell_type": "code",
      "source": [
        ""
      ],
      "metadata": {
        "id": "iX63oLuVlo2p"
      },
      "execution_count": 13,
      "outputs": []
    },
    {
      "cell_type": "code",
      "source": [
        ""
      ],
      "metadata": {
        "id": "5hQUkpmUofNI"
      },
      "execution_count": 14,
      "outputs": []
    }
  ]
}